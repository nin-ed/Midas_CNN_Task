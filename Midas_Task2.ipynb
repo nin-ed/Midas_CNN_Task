{
  "nbformat": 4,
  "nbformat_minor": 0,
  "metadata": {
    "colab": {
      "name": "Midas_Task2.ipynb",
      "provenance": [],
      "toc_visible": true,
      "mount_file_id": "1959f37J-72-rAcr1BwIHNgdwTbSiOhHD",
      "authorship_tag": "ABX9TyOcQdIP+zMjapnuV+Hq5n0E",
      "include_colab_link": true
    },
    "kernelspec": {
      "name": "python3",
      "display_name": "Python 3"
    },
    "language_info": {
      "name": "python"
    },
    "accelerator": "GPU"
  },
  "cells": [
    {
      "cell_type": "markdown",
      "metadata": {
        "id": "view-in-github",
        "colab_type": "text"
      },
      "source": [
        "<a href=\"https://colab.research.google.com/github/nin-ed/Midas_CNN_Task/blob/main/Midas_Task2.ipynb\" target=\"_parent\"><img src=\"https://colab.research.google.com/assets/colab-badge.svg\" alt=\"Open In Colab\"/></a>"
      ]
    },
    {
      "cell_type": "markdown",
      "metadata": {
        "id": "alyU5UdTwUUG"
      },
      "source": [
        "### Downloading Data"
      ]
    },
    {
      "cell_type": "code",
      "metadata": {
        "id": "nSlNOpBwoFdE"
      },
      "source": [
        "!wget https://www.dropbox.com/s/pan6mutc5xj5kj0/trainPart1.zip"
      ],
      "execution_count": null,
      "outputs": []
    },
    {
      "cell_type": "code",
      "metadata": {
        "id": "z31DiAbDrgzK"
      },
      "source": [
        "!wget https://www.dropbox.com/s/otc12z2w7f7xm8z/mnistTask3.zip?dl=0"
      ],
      "execution_count": null,
      "outputs": []
    },
    {
      "cell_type": "code",
      "metadata": {
        "id": "YtS-C-GfqAxO"
      },
      "source": [
        "!unzip /content/trainPart1.zip -d /content/drive/MyDrive"
      ],
      "execution_count": null,
      "outputs": []
    },
    {
      "cell_type": "code",
      "metadata": {
        "id": "SoXpvAfTqlEO"
      },
      "source": [
        "!unzip /content/mnistTask3.zip\\?dl\\=0 -d /content/drive/MyDrive"
      ],
      "execution_count": null,
      "outputs": []
    },
    {
      "cell_type": "markdown",
      "metadata": {
        "id": "OoOtPK47wyjW"
      },
      "source": [
        "### Renaming Labels to their ascii characters\n",
        "\n",
        "Changed because of odd naming of file names. Although, Pytorch does its labelling on its own when we pass the data into Dataloader."
      ]
    },
    {
      "cell_type": "code",
      "metadata": {
        "id": "_5cj2e8OOM6J"
      },
      "source": [
        "path = \"/content/drive/MyDrive\""
      ],
      "execution_count": null,
      "outputs": []
    },
    {
      "cell_type": "code",
      "metadata": {
        "id": "yX_ow0xvr3rE"
      },
      "source": [
        "import os\n",
        "\n",
        "for i in range(1, 10):\n",
        "    os.rename(f\"{path}/train/Sample00{i}\", f\"{path}/train/{ord(f'{i-1}')}\")\n",
        "os.rename(f\"{path}/train/Sample010\", f\"{path}/train/{ord('9')}\")\n",
        "\n",
        "c = ord('A')\n",
        "for i in range(11, 37):\n",
        "    os.rename(f\"{path}/train/Sample0{i}\", f\"{path}/train/{c}\")\n",
        "    c += 1\n",
        "\n",
        "c = ord('a')\n",
        "for i in range(37, 63):\n",
        "    os.rename(f\"{path}/train/Sample0{i}\", f\"{path}/train/{c}\")\n",
        "    c += 1"
      ],
      "execution_count": null,
      "outputs": []
    },
    {
      "cell_type": "markdown",
      "metadata": {
        "id": "L4pfn0c5Zw5G"
      },
      "source": [
        "# Part 1"
      ]
    },
    {
      "cell_type": "markdown",
      "metadata": {
        "id": "hHu7wGyZwshL"
      },
      "source": [
        "### Importing Libraries"
      ]
    },
    {
      "cell_type": "code",
      "metadata": {
        "id": "1GmlG1IBwnF6"
      },
      "source": [
        "import torch\n",
        "from torch.utils.data import DataLoader, random_split\n",
        "from torch import nn, optim\n",
        "from torchvision import transforms, datasets\n",
        "import torch.nn.functional as F\n",
        "from torchsummary import summary\n",
        "import matplotlib.pyplot as plt"
      ],
      "execution_count": null,
      "outputs": []
    },
    {
      "cell_type": "markdown",
      "metadata": {
        "id": "MAvMxrZrwv1A"
      },
      "source": [
        "### Transformations\n",
        "\n",
        "1. Converting images to grayscale - There isn't enough to look into the images except characters/numbers written with ink over a white base. So grayscaling will help reducing the channels and doesn't affect training much.\n",
        "\n",
        "2. Randomly Rotating images by 45 degrees.\n",
        "\n",
        "3. Cropping and Resizing images to dimensions - [1 x 28 x 28] (channel x width x height)\n",
        "\n",
        "4. Randomly Flip images horizontally.\n",
        "\n",
        "5. Converting data to tensors\n",
        "\n",
        "6. Normalizing the images."
      ]
    },
    {
      "cell_type": "code",
      "metadata": {
        "id": "hfix7ldLJHgX"
      },
      "source": [
        "transform = transforms.Compose([transforms.Grayscale(num_output_channels=1),\n",
        "                                transforms.RandomRotation(45),\n",
        "                                transforms.RandomResizedCrop(28),\n",
        "                                transforms.RandomHorizontalFlip(),\n",
        "                                transforms.ToTensor(),\n",
        "                                transforms.Normalize((0.5,), (0.5,))])\n",
        "\n",
        "train_data = datasets.ImageFolder(f\"{path}/train\", transform=transform)\n",
        "trainloader = DataLoader(train_data, batch_size=64, shuffle=True)"
      ],
      "execution_count": null,
      "outputs": []
    },
    {
      "cell_type": "markdown",
      "metadata": {
        "id": "4KrxK61zyQlP"
      },
      "source": [
        "### Model\n",
        "\n",
        "Model consists of simple CNN model followed by fully convolutional layers.\n",
        "\n",
        "1. CNN Layers  : 2\n",
        "\n",
        "    a. conv1: in_channels = 1, out_channels = 16\n",
        "    \n",
        "    b. conv2: in_channels = 16, out_channels = 32\n",
        "\n",
        "2. FC Layers   : 2\n",
        "\n",
        "    a. fc1: [32*4*4, 128]\n",
        "\n",
        "    b. fc2: [128, no_of_labels=62]\n",
        "\n",
        "3. Dropout     : Probability = 0.2\n",
        "\n",
        "4. Kernel Size : (5 x 5)\n",
        "\n",
        "Kernel size is 5 because I want to retrieve local features with area covered that is not to big or small."
      ]
    },
    {
      "cell_type": "code",
      "metadata": {
        "id": "9wNQk3xaJLji"
      },
      "source": [
        "class Model(nn.Module):\n",
        "    def __init__(self, in_c, out_size):\n",
        "        super(Model, self).__init__()\n",
        "        self.conv1 = nn.Conv2d(in_c, 16, kernel_size=(5, 5))\n",
        "        self.conv2 = nn.Conv2d(16, 32, kernel_size=(5, 5))\n",
        "        self.drop = nn.Dropout(p=0.2)\n",
        "        self.pool = nn.MaxPool2d(2, 2)\n",
        "        self.fc1 = nn.Linear(32*4*4, 128)\n",
        "        self.fc2 = nn.Linear(128, out_size)\n",
        "\n",
        "    def forward(self, x):\n",
        "        x = self.pool(F.relu(self.conv1(x)))\n",
        "        x = self.pool(F.relu(self.conv2(x)))\n",
        "        x = x.view(-1, 32*4*4)\n",
        "        x = self.drop(F.relu(self.fc1(x)))\n",
        "        x = self.fc2(x)\n",
        "        return F.log_softmax(x, dim=1)"
      ],
      "execution_count": null,
      "outputs": []
    },
    {
      "cell_type": "markdown",
      "metadata": {
        "id": "XbxF2AB5_cn_"
      },
      "source": [
        "### Method for training"
      ]
    },
    {
      "cell_type": "code",
      "metadata": {
        "id": "VAKFfeYIJhWz"
      },
      "source": [
        "def training(model, criterion, optimizer, trainloader, epochs):\n",
        "    loss_list = []\n",
        "    model.train()\n",
        "    for e in range(epochs):\n",
        "        tot_loss = 0.\n",
        "        for img, lab in trainloader:\n",
        "            img, lab = img.cuda(), lab.cuda()\n",
        "            optimizer.zero_grad()\n",
        "            pred = model.forward(img)\n",
        "            loss = criterion(pred, lab)\n",
        "            loss.backward()\n",
        "            optimizer.step()\n",
        "            tot_loss += loss.cpu().item()\n",
        "        loss_list.append(tot_loss / len(trainloader))\n",
        "        print(f\"Epoch: {e+1}       Loss: {tot_loss / len(trainloader)}\")\n",
        "    return loss_list"
      ],
      "execution_count": null,
      "outputs": []
    },
    {
      "cell_type": "markdown",
      "metadata": {
        "id": "KncHIhAR_lcR"
      },
      "source": [
        "### Model class Object Call\n",
        "\n",
        "First argument is number of input channel.\n",
        "\n",
        "Second argument is number of labels."
      ]
    },
    {
      "cell_type": "code",
      "metadata": {
        "id": "w-CjjER6SRGf"
      },
      "source": [
        "model = Model(1, 62)\n",
        "model = model.cuda()"
      ],
      "execution_count": null,
      "outputs": []
    },
    {
      "cell_type": "markdown",
      "metadata": {
        "id": "QYj8A3Q7HbCp"
      },
      "source": [
        "### Summary \n",
        "\n",
        "Describes the model stack"
      ]
    },
    {
      "cell_type": "code",
      "metadata": {
        "colab": {
          "base_uri": "https://localhost:8080/"
        },
        "id": "LeJnDLFYSTgM",
        "outputId": "2dcb9d5e-8331-4784-aecc-ce1db4fa5b99"
      },
      "source": [
        "summary(model, (1, 28, 28))"
      ],
      "execution_count": null,
      "outputs": [
        {
          "output_type": "stream",
          "text": [
            "----------------------------------------------------------------\n",
            "        Layer (type)               Output Shape         Param #\n",
            "================================================================\n",
            "            Conv2d-1           [-1, 16, 24, 24]             416\n",
            "         MaxPool2d-2           [-1, 16, 12, 12]               0\n",
            "            Conv2d-3             [-1, 32, 8, 8]          12,832\n",
            "         MaxPool2d-4             [-1, 32, 4, 4]               0\n",
            "            Linear-5                  [-1, 128]          65,664\n",
            "           Dropout-6                  [-1, 128]               0\n",
            "            Linear-7                   [-1, 62]           7,998\n",
            "================================================================\n",
            "Total params: 86,910\n",
            "Trainable params: 86,910\n",
            "Non-trainable params: 0\n",
            "----------------------------------------------------------------\n",
            "Input size (MB): 0.00\n",
            "Forward/backward pass size (MB): 0.11\n",
            "Params size (MB): 0.33\n",
            "Estimated Total Size (MB): 0.44\n",
            "----------------------------------------------------------------\n"
          ],
          "name": "stdout"
        }
      ]
    },
    {
      "cell_type": "markdown",
      "metadata": {
        "id": "vkwa1Q88HhmX"
      },
      "source": [
        "### Loss function and Optimizer\n",
        "\n",
        "Loss function is defined to be Negative Log Likelihood Loss.\n",
        "\n",
        "Optimizer opted is Adam with learning rate 0.001"
      ]
    },
    {
      "cell_type": "code",
      "metadata": {
        "id": "7ZkZu-IoJjji"
      },
      "source": [
        "criterion = nn.NLLLoss()\n",
        "optimizer = optim.Adam(model.parameters(), lr=0.001)"
      ],
      "execution_count": null,
      "outputs": []
    },
    {
      "cell_type": "markdown",
      "metadata": {
        "id": "qkwy6jeDH1se"
      },
      "source": [
        "### Training method called for training\n",
        "\n",
        "Epochs are assigned to 100."
      ]
    },
    {
      "cell_type": "code",
      "metadata": {
        "colab": {
          "base_uri": "https://localhost:8080/"
        },
        "id": "2CqwfmpNJlmA",
        "outputId": "8798bc59-b160-4376-c62b-7d73c5bf26a9"
      },
      "source": [
        "a_list = training(model, criterion, optimizer, trainloader, 100)"
      ],
      "execution_count": null,
      "outputs": [
        {
          "output_type": "stream",
          "text": [
            "Epoch: 1       Loss: 4.132956504821777\n",
            "Epoch: 2       Loss: 4.1248549436911555\n",
            "Epoch: 3       Loss: 4.093358602279272\n",
            "Epoch: 4       Loss: 4.010928948720296\n",
            "Epoch: 5       Loss: 3.954660036625006\n",
            "Epoch: 6       Loss: 3.8597369621961546\n",
            "Epoch: 7       Loss: 3.807542464671991\n",
            "Epoch: 8       Loss: 3.7460521979209704\n",
            "Epoch: 9       Loss: 3.704121192296346\n",
            "Epoch: 10       Loss: 3.6548201609880495\n",
            "Epoch: 11       Loss: 3.5659786737882175\n",
            "Epoch: 12       Loss: 3.5225898852715125\n",
            "Epoch: 13       Loss: 3.4818061131697435\n",
            "Epoch: 14       Loss: 3.4546120166778564\n",
            "Epoch: 15       Loss: 3.3742815531217136\n",
            "Epoch: 16       Loss: 3.3704228829114866\n",
            "Epoch: 17       Loss: 3.2852475948822804\n",
            "Epoch: 18       Loss: 3.2727049741989527\n",
            "Epoch: 19       Loss: 3.213295478087205\n",
            "Epoch: 20       Loss: 3.187677420102633\n",
            "Epoch: 21       Loss: 3.179448311145489\n",
            "Epoch: 22       Loss: 3.11083793028807\n",
            "Epoch: 23       Loss: 3.1282212550823507\n",
            "Epoch: 24       Loss: 3.1323285347376113\n",
            "Epoch: 25       Loss: 3.0959354241689048\n",
            "Epoch: 26       Loss: 3.066565220172589\n",
            "Epoch: 27       Loss: 3.029616606541169\n",
            "Epoch: 28       Loss: 2.9803270437778573\n",
            "Epoch: 29       Loss: 2.991749360011174\n",
            "Epoch: 30       Loss: 2.939894969646747\n",
            "Epoch: 31       Loss: 2.9537404439388175\n",
            "Epoch: 32       Loss: 2.972268269612239\n",
            "Epoch: 33       Loss: 2.8644560300386868\n",
            "Epoch: 34       Loss: 2.887435998672094\n",
            "Epoch: 35       Loss: 2.8886168797810874\n",
            "Epoch: 36       Loss: 2.870143107878856\n",
            "Epoch: 37       Loss: 2.820665934146979\n",
            "Epoch: 38       Loss: 2.8559394799746\n",
            "Epoch: 39       Loss: 2.8545297170296693\n",
            "Epoch: 40       Loss: 2.821915785471598\n",
            "Epoch: 41       Loss: 2.772390970816979\n",
            "Epoch: 42       Loss: 2.8212189918909316\n",
            "Epoch: 43       Loss: 2.8605056603749595\n",
            "Epoch: 44       Loss: 2.830581084275857\n",
            "Epoch: 45       Loss: 2.757510570379404\n",
            "Epoch: 46       Loss: 2.7403727922684107\n",
            "Epoch: 47       Loss: 2.7352401537772937\n",
            "Epoch: 48       Loss: 2.67704831636869\n",
            "Epoch: 49       Loss: 2.7662618099114833\n",
            "Epoch: 50       Loss: 2.7539453628735666\n",
            "Epoch: 51       Loss: 2.6643628768431835\n",
            "Epoch: 52       Loss: 2.672613425132556\n",
            "Epoch: 53       Loss: 2.6533772150675454\n",
            "Epoch: 54       Loss: 2.6950769363305507\n",
            "Epoch: 55       Loss: 2.6109500787197013\n",
            "Epoch: 56       Loss: 2.619254191716512\n",
            "Epoch: 57       Loss: 2.636093793771206\n",
            "Epoch: 58       Loss: 2.6740556252308383\n",
            "Epoch: 59       Loss: 2.630218823750814\n",
            "Epoch: 60       Loss: 2.6460072016104674\n",
            "Epoch: 61       Loss: 2.6836561545347557\n",
            "Epoch: 62       Loss: 2.6022737515278354\n",
            "Epoch: 63       Loss: 2.589345479622865\n",
            "Epoch: 64       Loss: 2.6338058496132875\n",
            "Epoch: 65       Loss: 2.5689151225945888\n",
            "Epoch: 66       Loss: 2.530020750485934\n",
            "Epoch: 67       Loss: 2.5969736820612197\n",
            "Epoch: 68       Loss: 2.587568130248632\n",
            "Epoch: 69       Loss: 2.5514917312524257\n",
            "Epoch: 70       Loss: 2.5498369534810386\n",
            "Epoch: 71       Loss: 2.6009177611424374\n",
            "Epoch: 72       Loss: 2.5683481937799697\n",
            "Epoch: 73       Loss: 2.509397506713867\n",
            "Epoch: 74       Loss: 2.462762725658906\n",
            "Epoch: 75       Loss: 2.5724042990268807\n",
            "Epoch: 76       Loss: 2.5186395889673476\n",
            "Epoch: 77       Loss: 2.541684383001083\n",
            "Epoch: 78       Loss: 2.525088077936417\n",
            "Epoch: 79       Loss: 2.531695145827073\n",
            "Epoch: 80       Loss: 2.5223896564581456\n",
            "Epoch: 81       Loss: 2.5165832287225967\n",
            "Epoch: 82       Loss: 2.557217246446854\n",
            "Epoch: 83       Loss: 2.4993658738258557\n",
            "Epoch: 84       Loss: 2.516829068844135\n",
            "Epoch: 85       Loss: 2.512006619037726\n",
            "Epoch: 86       Loss: 2.427583077015021\n",
            "Epoch: 87       Loss: 2.4636858732272415\n",
            "Epoch: 88       Loss: 2.504372722063309\n",
            "Epoch: 89       Loss: 2.451280667231633\n",
            "Epoch: 90       Loss: 2.4747953781714807\n",
            "Epoch: 91       Loss: 2.4587239974584336\n",
            "Epoch: 92       Loss: 2.45579605224805\n",
            "Epoch: 93       Loss: 2.4002431692221227\n",
            "Epoch: 94       Loss: 2.4959830932128124\n",
            "Epoch: 95       Loss: 2.4383332423674755\n",
            "Epoch: 96       Loss: 2.472179571787516\n",
            "Epoch: 97       Loss: 2.4306494028140335\n",
            "Epoch: 98       Loss: 2.4326867140256443\n",
            "Epoch: 99       Loss: 2.4156883313105655\n",
            "Epoch: 100       Loss: 2.4768376778333616\n"
          ],
          "name": "stdout"
        }
      ]
    },
    {
      "cell_type": "markdown",
      "metadata": {
        "id": "GATw9pJ651o9"
      },
      "source": [
        "### Epochs vs Loss Plot"
      ]
    },
    {
      "cell_type": "code",
      "metadata": {
        "colab": {
          "base_uri": "https://localhost:8080/",
          "height": 283
        },
        "id": "b11zcOHG5Zxm",
        "outputId": "ce456f84-f209-47f0-c61c-cfdab056d258"
      },
      "source": [
        "epochs = [i for i in range(1, 101)]\n",
        "plt.plot(epochs, a_list)"
      ],
      "execution_count": null,
      "outputs": [
        {
          "output_type": "execute_result",
          "data": {
            "text/plain": [
              "[<matplotlib.lines.Line2D at 0x7fc6cbc33050>]"
            ]
          },
          "metadata": {
            "tags": []
          },
          "execution_count": 19
        },
        {
          "output_type": "display_data",
          "data": {
            "image/png": "[encoded data removed]",
            "text/plain": [
              "<Figure size 432x288 with 1 Axes>"
            ]
          },
          "metadata": {
            "tags": [],
            "needs_background": "light"
          }
        }
      ]
    },
    {
      "cell_type": "markdown",
      "metadata": {
        "id": "tvcRH552H6ZE"
      },
      "source": [
        "### First Checkpoint after 100 epochs."
      ]
    },
    {
      "cell_type": "code",
      "metadata": {
        "id": "WzJ1Yf_OQwkf"
      },
      "source": [
        "torch.save(model.cpu().state_dict(), '/content/drive/MyDrive/midas_mnist.pth')"
      ],
      "execution_count": null,
      "outputs": []
    },
    {
      "cell_type": "markdown",
      "metadata": {
        "id": "wNcf0sXVIpAc"
      },
      "source": [
        "### Training More\n",
        "\n",
        "I wasn't satisfied by the loss. So I ran training method for 100 epochs more as it didn't converge as I expected."
      ]
    },
    {
      "cell_type": "code",
      "metadata": {
        "colab": {
          "base_uri": "https://localhost:8080/"
        },
        "id": "F2VULLKDpySU",
        "outputId": "bc614171-4411-420e-f12a-e97b00007cd0"
      },
      "source": [
        "b_list = training(model.cuda(), criterion, optimizer, trainloader, 100)"
      ],
      "execution_count": null,
      "outputs": [
        {
          "output_type": "stream",
          "text": [
            "Epoch: 1       Loss: 2.8405165794568186\n",
            "Epoch: 2       Loss: 2.763847228808281\n",
            "Epoch: 3       Loss: 2.7575199726300363\n",
            "Epoch: 4       Loss: 2.6822248055384708\n",
            "Epoch: 5       Loss: 2.684568545757196\n",
            "Epoch: 6       Loss: 2.671311250099769\n",
            "Epoch: 7       Loss: 2.6329941199376035\n",
            "Epoch: 8       Loss: 2.617724137428479\n",
            "Epoch: 9       Loss: 2.5893161663642297\n",
            "Epoch: 10       Loss: 2.5378784766564\n",
            "Epoch: 11       Loss: 2.5957386677081766\n",
            "Epoch: 12       Loss: 2.5935913049257717\n",
            "Epoch: 13       Loss: 2.5491030521881886\n",
            "Epoch: 14       Loss: 2.6140789129795174\n",
            "Epoch: 15       Loss: 2.519442442135933\n",
            "Epoch: 16       Loss: 2.533368563040709\n",
            "Epoch: 17       Loss: 2.493566788159884\n",
            "Epoch: 18       Loss: 2.5318550880138693\n",
            "Epoch: 19       Loss: 2.520517355356461\n",
            "Epoch: 20       Loss: 2.5421722363203\n",
            "Epoch: 21       Loss: 2.5120853644150953\n",
            "Epoch: 22       Loss: 2.5028322476607103\n",
            "Epoch: 23       Loss: 2.555984478730422\n",
            "Epoch: 24       Loss: 2.493834055387057\n",
            "Epoch: 25       Loss: 2.500200467231946\n",
            "Epoch: 26       Loss: 2.4962392036731424\n",
            "Epoch: 27       Loss: 2.462161498192029\n",
            "Epoch: 28       Loss: 2.4918866891127367\n",
            "Epoch: 29       Loss: 2.494041363398234\n",
            "Epoch: 30       Loss: 2.462062352742904\n",
            "Epoch: 31       Loss: 2.4554732182087045\n",
            "Epoch: 32       Loss: 2.454297432532677\n",
            "Epoch: 33       Loss: 2.459293096493452\n",
            "Epoch: 34       Loss: 2.458366620234954\n",
            "Epoch: 35       Loss: 2.4626706013312707\n",
            "Epoch: 36       Loss: 2.5010733054234433\n",
            "Epoch: 37       Loss: 2.4173819499138074\n",
            "Epoch: 38       Loss: 2.416387704702524\n",
            "Epoch: 39       Loss: 2.436881062312004\n",
            "Epoch: 40       Loss: 2.439023415247599\n",
            "Epoch: 41       Loss: 2.4791800731267686\n",
            "Epoch: 42       Loss: 2.4317225890281873\n",
            "Epoch: 43       Loss: 2.4105580708919425\n",
            "Epoch: 44       Loss: 2.393514483402937\n",
            "Epoch: 45       Loss: 2.41663086720002\n",
            "Epoch: 46       Loss: 2.408535125928047\n",
            "Epoch: 47       Loss: 2.400271794734857\n",
            "Epoch: 48       Loss: 2.446278617932246\n",
            "Epoch: 49       Loss: 2.3358243123078957\n",
            "Epoch: 50       Loss: 2.3700139553118973\n",
            "Epoch: 51       Loss: 2.3405233804996195\n",
            "Epoch: 52       Loss: 2.3799999340986595\n",
            "Epoch: 53       Loss: 2.4011224783383884\n",
            "Epoch: 54       Loss: 2.3857963329706435\n",
            "Epoch: 55       Loss: 2.3781898571894717\n",
            "Epoch: 56       Loss: 2.3472138796097193\n",
            "Epoch: 57       Loss: 2.413570217597179\n",
            "Epoch: 58       Loss: 2.3744510931846423\n",
            "Epoch: 59       Loss: 2.3092607229183884\n",
            "Epoch: 60       Loss: 2.3872926235198975\n",
            "Epoch: 61       Loss: 2.371877896480071\n",
            "Epoch: 62       Loss: 2.3425298990347447\n",
            "Epoch: 63       Loss: 2.3475783176911182\n",
            "Epoch: 64       Loss: 2.3781037819691195\n",
            "Epoch: 65       Loss: 2.261282278941228\n",
            "Epoch: 66       Loss: 2.394128013879825\n",
            "Epoch: 67       Loss: 2.3611549780919003\n",
            "Epoch: 68       Loss: 2.325268962444403\n",
            "Epoch: 69       Loss: 2.314524320455698\n",
            "Epoch: 70       Loss: 2.3154720343076267\n",
            "Epoch: 71       Loss: 2.3657316061166616\n",
            "Epoch: 72       Loss: 2.260731645119496\n",
            "Epoch: 73       Loss: 2.3659234108069005\n",
            "Epoch: 74       Loss: 2.34311641790928\n",
            "Epoch: 75       Loss: 2.3557976942795973\n",
            "Epoch: 76       Loss: 2.379905816836235\n",
            "Epoch: 77       Loss: 2.345379059131329\n",
            "Epoch: 78       Loss: 2.3535406589508057\n",
            "Epoch: 79       Loss: 2.357410485927875\n",
            "Epoch: 80       Loss: 2.349386227436555\n",
            "Epoch: 81       Loss: 2.3149373775873427\n",
            "Epoch: 82       Loss: 2.2560508098357763\n",
            "Epoch: 83       Loss: 2.3273230760525436\n",
            "Epoch: 84       Loss: 2.2936849624682694\n",
            "Epoch: 85       Loss: 2.316386329822051\n",
            "Epoch: 86       Loss: 2.315668219175094\n",
            "Epoch: 87       Loss: 2.2717527884703417\n",
            "Epoch: 88       Loss: 2.2792714284016538\n",
            "Epoch: 89       Loss: 2.351610336548243\n",
            "Epoch: 90       Loss: 2.3015409066126895\n",
            "Epoch: 91       Loss: 2.3420149913200965\n",
            "Epoch: 92       Loss: 2.292403566531646\n",
            "Epoch: 93       Loss: 2.2887683036999826\n",
            "Epoch: 94       Loss: 2.2312241273048596\n",
            "Epoch: 95       Loss: 2.3172890345255532\n",
            "Epoch: 96       Loss: 2.2762008905410767\n",
            "Epoch: 97       Loss: 2.257376273473104\n",
            "Epoch: 98       Loss: 2.310146090311882\n",
            "Epoch: 99       Loss: 2.3022649379876943\n",
            "Epoch: 100       Loss: 2.2860785783865514\n"
          ],
          "name": "stdout"
        }
      ]
    },
    {
      "cell_type": "markdown",
      "metadata": {
        "id": "LbitdpbB9-U2"
      },
      "source": [
        "### Second Checkpoint after another 100 epochs"
      ]
    },
    {
      "cell_type": "code",
      "metadata": {
        "id": "89iHhPj9p7lp"
      },
      "source": [
        "torch.save(model.cpu().state_dict(), '/content/drive/MyDrive/midas_mnist.pth')"
      ],
      "execution_count": null,
      "outputs": []
    },
    {
      "cell_type": "markdown",
      "metadata": {
        "id": "1vX0H0emZ2Y2"
      },
      "source": [
        "# Part 2"
      ]
    },
    {
      "cell_type": "markdown",
      "metadata": {
        "id": "z4oDc8h7OpTm"
      },
      "source": [
        "### Retrieving saved checkpoint"
      ]
    },
    {
      "cell_type": "code",
      "metadata": {
        "id": "CDdtME5yV4Q4",
        "colab": {
          "base_uri": "https://localhost:8080/"
        },
        "outputId": "cdbe1fe9-219e-4110-f7bf-2bce80217736"
      },
      "source": [
        "chkpt = torch.load('/content/drive/MyDrive/midas_mnist.pth')\n",
        "model.load_state_dict(chkpt)"
      ],
      "execution_count": null,
      "outputs": [
        {
          "output_type": "execute_result",
          "data": {
            "text/plain": [
              "<All keys matched successfully>"
            ]
          },
          "metadata": {
            "tags": []
          },
          "execution_count": 45
        }
      ]
    },
    {
      "cell_type": "markdown",
      "metadata": {
        "id": "kQURPlALYjaU"
      },
      "source": [
        "### Retrieving MNIST data and train-test split\n",
        "\n",
        "Total Data: 60000\n",
        "\n",
        "Training Data: 80% of data -> 48000\n",
        "\n",
        "Testing Data: 20% of data -> 12000"
      ]
    },
    {
      "cell_type": "code",
      "metadata": {
        "id": "70NvOQD0SZ_X"
      },
      "source": [
        "data = datasets.ImageFolder(f\"{path}/train_sep\", transform=transform)\n",
        "train_data, test_data = random_split(data, [int(0.8 * len(data)), int(0.2 * len(data))])\n",
        "trainloader = DataLoader(train_data, batch_size=64, shuffle=True)\n",
        "testloader = DataLoader(test_data, batch_size=64, shuffle=True)"
      ],
      "execution_count": null,
      "outputs": []
    },
    {
      "cell_type": "markdown",
      "metadata": {
        "id": "9r7ZHva2ZEqx"
      },
      "source": [
        "### Scrapping Last Layer and replacing layer to predict for classes 0-9."
      ]
    },
    {
      "cell_type": "code",
      "metadata": {
        "id": "1hucpoKST4wf"
      },
      "source": [
        "model.fc2 = nn.Linear(128, 10)\n",
        "model = model.cuda()"
      ],
      "execution_count": null,
      "outputs": []
    },
    {
      "cell_type": "code",
      "metadata": {
        "colab": {
          "base_uri": "https://localhost:8080/"
        },
        "id": "L4AokUIXjJGF",
        "outputId": "81d6d1b5-478b-4af2-b57e-2b1cb695f8e4"
      },
      "source": [
        "summary(model, (1, 28, 28))"
      ],
      "execution_count": null,
      "outputs": [
        {
          "output_type": "stream",
          "text": [
            "----------------------------------------------------------------\n",
            "        Layer (type)               Output Shape         Param #\n",
            "================================================================\n",
            "            Conv2d-1           [-1, 16, 24, 24]             416\n",
            "         MaxPool2d-2           [-1, 16, 12, 12]               0\n",
            "            Conv2d-3             [-1, 32, 8, 8]          12,832\n",
            "         MaxPool2d-4             [-1, 32, 4, 4]               0\n",
            "            Linear-5                  [-1, 128]          65,664\n",
            "           Dropout-6                  [-1, 128]               0\n",
            "            Linear-7                   [-1, 10]           1,290\n",
            "================================================================\n",
            "Total params: 80,202\n",
            "Trainable params: 80,202\n",
            "Non-trainable params: 0\n",
            "----------------------------------------------------------------\n",
            "Input size (MB): 0.00\n",
            "Forward/backward pass size (MB): 0.11\n",
            "Params size (MB): 0.31\n",
            "Estimated Total Size (MB): 0.42\n",
            "----------------------------------------------------------------\n"
          ],
          "name": "stdout"
        }
      ]
    },
    {
      "cell_type": "markdown",
      "metadata": {
        "id": "UbTk3RmuZUxR"
      },
      "source": [
        "### Optimizer Initialization"
      ]
    },
    {
      "cell_type": "code",
      "metadata": {
        "id": "1arkj0Z8Uetf"
      },
      "source": [
        "optimizer = optim.Adam(model.parameters(), lr=0.001)"
      ],
      "execution_count": null,
      "outputs": []
    },
    {
      "cell_type": "markdown",
      "metadata": {
        "id": "9nAjFp4HLlz3"
      },
      "source": [
        "### Pretrained Network Training"
      ]
    },
    {
      "cell_type": "code",
      "metadata": {
        "colab": {
          "base_uri": "https://localhost:8080/"
        },
        "id": "CIG3eBv9UcV2",
        "outputId": "362b4981-c133-4ca6-a0bb-48c50cfcc56a"
      },
      "source": [
        "m_list = training(model, criterion, optimizer, trainloader, 100)"
      ],
      "execution_count": null,
      "outputs": [
        {
          "output_type": "stream",
          "text": [
            "Epoch: 1       Loss: 2.5131683349609375\n",
            "Epoch: 2       Loss: 2.346150779724121\n",
            "Epoch: 3       Loss: 2.268466281890869\n",
            "Epoch: 4       Loss: 2.1810925960540772\n",
            "Epoch: 5       Loss: 2.1318502902984617\n",
            "Epoch: 6       Loss: 2.062765622138977\n",
            "Epoch: 7       Loss: 1.9729217290878296\n",
            "Epoch: 8       Loss: 1.8988982915878296\n",
            "Epoch: 9       Loss: 1.817150640487671\n",
            "Epoch: 10       Loss: 1.7351985454559327\n",
            "Epoch: 11       Loss: 1.6381468057632447\n",
            "Epoch: 12       Loss: 1.7057775497436523\n",
            "Epoch: 13       Loss: 1.5690589189529418\n",
            "Epoch: 14       Loss: 1.5020303010940552\n",
            "Epoch: 15       Loss: 1.5111331224441529\n",
            "Epoch: 16       Loss: 1.4706021547317505\n",
            "Epoch: 17       Loss: 1.3968349695205688\n",
            "Epoch: 18       Loss: 1.3958688259124756\n",
            "Epoch: 19       Loss: 1.3026338577270509\n",
            "Epoch: 20       Loss: 1.313481593132019\n",
            "Epoch: 21       Loss: 1.2555203914642334\n",
            "Epoch: 22       Loss: 1.3234760522842408\n",
            "Epoch: 23       Loss: 1.2395778179168702\n",
            "Epoch: 24       Loss: 1.2833020448684693\n",
            "Epoch: 25       Loss: 1.2998308658599853\n",
            "Epoch: 26       Loss: 1.2630870580673217\n",
            "Epoch: 27       Loss: 1.2509956121444703\n",
            "Epoch: 28       Loss: 1.27352876663208\n",
            "Epoch: 29       Loss: 1.2112480878829956\n",
            "Epoch: 30       Loss: 1.1853922843933105\n",
            "Epoch: 31       Loss: 1.2252845764160156\n",
            "Epoch: 32       Loss: 1.206623649597168\n",
            "Epoch: 33       Loss: 1.2249616146087647\n",
            "Epoch: 34       Loss: 1.1227778553962708\n",
            "Epoch: 35       Loss: 1.1785883903503418\n",
            "Epoch: 36       Loss: 1.1415555715560912\n",
            "Epoch: 37       Loss: 1.109752607345581\n",
            "Epoch: 38       Loss: 1.2136561632156373\n",
            "Epoch: 39       Loss: 1.161843490600586\n",
            "Epoch: 40       Loss: 1.0450485825538636\n",
            "Epoch: 41       Loss: 1.1075363278388977\n",
            "Epoch: 42       Loss: 1.125638484954834\n",
            "Epoch: 43       Loss: 1.2456586718559266\n",
            "Epoch: 44       Loss: 1.0946308851242066\n",
            "Epoch: 45       Loss: 1.1688432216644287\n",
            "Epoch: 46       Loss: 1.0263972878456116\n",
            "Epoch: 47       Loss: 1.1025069236755372\n",
            "Epoch: 48       Loss: 1.152158522605896\n",
            "Epoch: 49       Loss: 1.000788927078247\n",
            "Epoch: 50       Loss: 1.122358465194702\n",
            "Epoch: 51       Loss: 1.0164316534996032\n",
            "Epoch: 52       Loss: 1.1081187963485717\n",
            "Epoch: 53       Loss: 1.2129713296890259\n",
            "Epoch: 54       Loss: 1.0278717160224915\n",
            "Epoch: 55       Loss: 1.0986879110336303\n",
            "Epoch: 56       Loss: 1.1992318391799928\n",
            "Epoch: 57       Loss: 1.110143005847931\n",
            "Epoch: 58       Loss: 1.0819815516471862\n",
            "Epoch: 59       Loss: 1.025881588459015\n",
            "Epoch: 60       Loss: 1.1095300912857056\n",
            "Epoch: 61       Loss: 1.0596122741699219\n",
            "Epoch: 62       Loss: 1.0541231751441955\n",
            "Epoch: 63       Loss: 1.0625343084335328\n",
            "Epoch: 64       Loss: 1.0292752742767335\n",
            "Epoch: 65       Loss: 0.9722780108451843\n",
            "Epoch: 66       Loss: 1.1990182399749756\n",
            "Epoch: 67       Loss: 1.0985836267471314\n",
            "Epoch: 68       Loss: 1.0819215893745422\n",
            "Epoch: 69       Loss: 1.081048560142517\n",
            "Epoch: 70       Loss: 1.067274260520935\n",
            "Epoch: 71       Loss: 0.999186885356903\n",
            "Epoch: 72       Loss: 1.0267497777938843\n",
            "Epoch: 73       Loss: 0.96424880027771\n",
            "Epoch: 74       Loss: 0.9296812415122986\n",
            "Epoch: 75       Loss: 1.0162519574165345\n",
            "Epoch: 76       Loss: 0.9592319130897522\n",
            "Epoch: 77       Loss: 1.051346445083618\n",
            "Epoch: 78       Loss: 0.9721305012702942\n",
            "Epoch: 79       Loss: 1.0259533882141114\n",
            "Epoch: 80       Loss: 1.0109075546264648\n",
            "Epoch: 81       Loss: 1.0912779808044433\n",
            "Epoch: 82       Loss: 0.9577328324317932\n",
            "Epoch: 83       Loss: 1.028185737133026\n",
            "Epoch: 84       Loss: 0.9907106518745422\n",
            "Epoch: 85       Loss: 1.0722066760063171\n",
            "Epoch: 86       Loss: 1.0664504051208497\n",
            "Epoch: 87       Loss: 0.9925140738487244\n",
            "Epoch: 88       Loss: 1.0509912490844726\n",
            "Epoch: 89       Loss: 0.9867043614387512\n",
            "Epoch: 90       Loss: 0.9720009922981262\n",
            "Epoch: 91       Loss: 0.9881927728652954\n",
            "Epoch: 92       Loss: 1.0436775922775268\n",
            "Epoch: 93       Loss: 0.9874786972999573\n",
            "Epoch: 94       Loss: 0.972537386417389\n",
            "Epoch: 95       Loss: 1.0501543760299683\n",
            "Epoch: 96       Loss: 1.0085170269012451\n",
            "Epoch: 97       Loss: 1.083802545070648\n",
            "Epoch: 98       Loss: 1.0739031672477721\n",
            "Epoch: 99       Loss: 0.9568461656570435\n",
            "Epoch: 100       Loss: 1.0523419022560119\n"
          ],
          "name": "stdout"
        }
      ]
    },
    {
      "cell_type": "markdown",
      "metadata": {
        "id": "p7yyFWLnLpTH"
      },
      "source": [
        "### Randomly Initialized Network"
      ]
    },
    {
      "cell_type": "code",
      "metadata": {
        "colab": {
          "base_uri": "https://localhost:8080/"
        },
        "id": "2Ht3xT7dNP4r",
        "outputId": "86c91fa5-3dc3-486b-c0a6-6e3ca50682ca"
      },
      "source": [
        "model_1 = Model(1, 62)\n",
        "model_1.fc2 = nn.Linear(128, 10)\n",
        "model_1 = model_1.cuda()\n",
        "optimizer_1 = optim.Adam(model_1.parameters(), lr=0.001)\n",
        "ran_list = training(model_1, criterion, optimizer_1, trainloader, 100)"
      ],
      "execution_count": null,
      "outputs": [
        {
          "output_type": "stream",
          "text": [
            "Epoch: 1       Loss: 2.3096978664398193\n",
            "Epoch: 2       Loss: 2.295684576034546\n",
            "Epoch: 3       Loss: 2.2931767463684083\n",
            "Epoch: 4       Loss: 2.2808406352996826\n",
            "Epoch: 5       Loss: 2.2636228084564207\n",
            "Epoch: 6       Loss: 2.259546089172363\n",
            "Epoch: 7       Loss: 2.240258741378784\n",
            "Epoch: 8       Loss: 2.2234254837036134\n",
            "Epoch: 9       Loss: 2.225475549697876\n",
            "Epoch: 10       Loss: 2.2213355541229247\n",
            "Epoch: 11       Loss: 2.1656837940216063\n",
            "Epoch: 12       Loss: 2.23852276802063\n",
            "Epoch: 13       Loss: 2.196135330200195\n",
            "Epoch: 14       Loss: 2.1670187950134276\n",
            "Epoch: 15       Loss: 2.1110636711120607\n",
            "Epoch: 16       Loss: 2.1631218910217287\n",
            "Epoch: 17       Loss: 2.152225637435913\n",
            "Epoch: 18       Loss: 2.137278175354004\n",
            "Epoch: 19       Loss: 2.1399670124053953\n",
            "Epoch: 20       Loss: 2.132020378112793\n",
            "Epoch: 21       Loss: 2.0528504610061646\n",
            "Epoch: 22       Loss: 2.0737446784973144\n",
            "Epoch: 23       Loss: 2.1067521810531615\n",
            "Epoch: 24       Loss: 2.0990572929382325\n",
            "Epoch: 25       Loss: 2.0481805324554445\n",
            "Epoch: 26       Loss: 1.986857008934021\n",
            "Epoch: 27       Loss: 2.054948616027832\n",
            "Epoch: 28       Loss: 2.0138862133026123\n",
            "Epoch: 29       Loss: 2.0623614311218263\n",
            "Epoch: 30       Loss: 2.0192999601364137\n",
            "Epoch: 31       Loss: 1.977753496170044\n",
            "Epoch: 32       Loss: 2.0299015283584594\n",
            "Epoch: 33       Loss: 1.9843080043792725\n",
            "Epoch: 34       Loss: 1.9636656999588014\n",
            "Epoch: 35       Loss: 2.0042507648468018\n",
            "Epoch: 36       Loss: 1.9436830520629882\n",
            "Epoch: 37       Loss: 1.9858673334121704\n",
            "Epoch: 38       Loss: 1.9114216089248657\n",
            "Epoch: 39       Loss: 2.0142093181610106\n",
            "Epoch: 40       Loss: 1.8641701221466065\n",
            "Epoch: 41       Loss: 1.9532382488250732\n",
            "Epoch: 42       Loss: 1.9107821464538575\n",
            "Epoch: 43       Loss: 1.8859932661056518\n",
            "Epoch: 44       Loss: 1.8843731880187988\n",
            "Epoch: 45       Loss: 1.9005078554153443\n",
            "Epoch: 46       Loss: 1.859022617340088\n",
            "Epoch: 47       Loss: 1.8535614728927612\n",
            "Epoch: 48       Loss: 1.8818778276443482\n",
            "Epoch: 49       Loss: 1.885585880279541\n",
            "Epoch: 50       Loss: 1.8999358415603638\n",
            "Epoch: 51       Loss: 1.8397168397903443\n",
            "Epoch: 52       Loss: 1.7851902723312378\n",
            "Epoch: 53       Loss: 1.8091503858566285\n",
            "Epoch: 54       Loss: 1.7702362775802611\n",
            "Epoch: 55       Loss: 1.836774230003357\n",
            "Epoch: 56       Loss: 1.8023863315582276\n",
            "Epoch: 57       Loss: 1.8054324626922607\n",
            "Epoch: 58       Loss: 1.8501710176467896\n",
            "Epoch: 59       Loss: 1.779782485961914\n",
            "Epoch: 60       Loss: 1.7843178272247315\n",
            "Epoch: 61       Loss: 1.7044710159301757\n",
            "Epoch: 62       Loss: 1.8196411609649659\n",
            "Epoch: 63       Loss: 1.771095609664917\n",
            "Epoch: 64       Loss: 1.7546629190444947\n",
            "Epoch: 65       Loss: 1.6891134977340698\n",
            "Epoch: 66       Loss: 1.7691681861877442\n",
            "Epoch: 67       Loss: 1.767451810836792\n",
            "Epoch: 68       Loss: 1.7433362483978272\n",
            "Epoch: 69       Loss: 1.6691282510757446\n",
            "Epoch: 70       Loss: 1.6924226522445678\n",
            "Epoch: 71       Loss: 1.6743581533432006\n",
            "Epoch: 72       Loss: 1.6806370735168457\n",
            "Epoch: 73       Loss: 1.6555266618728637\n",
            "Epoch: 74       Loss: 1.676624345779419\n",
            "Epoch: 75       Loss: 1.5444775819778442\n",
            "Epoch: 76       Loss: 1.6196186065673828\n",
            "Epoch: 77       Loss: 1.6513625144958497\n",
            "Epoch: 78       Loss: 1.6663834571838378\n",
            "Epoch: 79       Loss: 1.5512237787246703\n",
            "Epoch: 80       Loss: 1.6878273010253906\n",
            "Epoch: 81       Loss: 1.652054452896118\n",
            "Epoch: 82       Loss: 1.6112797498703002\n",
            "Epoch: 83       Loss: 1.584686541557312\n",
            "Epoch: 84       Loss: 1.5892793655395507\n",
            "Epoch: 85       Loss: 1.6740735054016114\n",
            "Epoch: 86       Loss: 1.5140031576156616\n",
            "Epoch: 87       Loss: 1.6046997785568238\n",
            "Epoch: 88       Loss: 1.5847253322601318\n",
            "Epoch: 89       Loss: 1.5015304803848266\n",
            "Epoch: 90       Loss: 1.6199731349945068\n",
            "Epoch: 91       Loss: 1.517008113861084\n",
            "Epoch: 92       Loss: 1.653607964515686\n",
            "Epoch: 93       Loss: 1.4743650197982787\n",
            "Epoch: 94       Loss: 1.6254342317581176\n",
            "Epoch: 95       Loss: 1.4309770584106445\n",
            "Epoch: 96       Loss: 1.439838695526123\n",
            "Epoch: 97       Loss: 1.4979679346084596\n",
            "Epoch: 98       Loss: 1.6292532205581665\n",
            "Epoch: 99       Loss: 1.5572304010391236\n",
            "Epoch: 100       Loss: 1.525197982788086\n"
          ],
          "name": "stdout"
        }
      ]
    },
    {
      "cell_type": "markdown",
      "metadata": {
        "id": "6mbq7eNSNwa8"
      },
      "source": [
        "### Comparison"
      ]
    },
    {
      "cell_type": "code",
      "metadata": {
        "id": "gRglz7VGNwHE"
      },
      "source": [
        "ep = [i for i in range(1, 101)]"
      ],
      "execution_count": null,
      "outputs": []
    },
    {
      "cell_type": "code",
      "metadata": {
        "colab": {
          "base_uri": "https://localhost:8080/",
          "height": 283
        },
        "id": "MRpW-pXvObee",
        "outputId": "14aae3d9-8cb5-4c4b-df68-49dd84df63b6"
      },
      "source": [
        "plt.plot(ep, m_list)\n",
        "plt.plot(ep, ran_list)\n",
        "plt.legend(['Pretrained', 'Randomly Intiailized'])"
      ],
      "execution_count": null,
      "outputs": [
        {
          "output_type": "execute_result",
          "data": {
            "text/plain": [
              "<matplotlib.legend.Legend at 0x7fc6cb00dad0>"
            ]
          },
          "metadata": {
            "tags": []
          },
          "execution_count": 57
        },
        {
          "output_type": "display_data",
          "data": {
            "image/png": "[encoded data removed]",
            "text/plain": [
              "<Figure size 432x288 with 1 Axes>"
            ]
          },
          "metadata": {
            "tags": [],
            "needs_background": "light"
          }
        }
      ]
    },
    {
      "cell_type": "markdown",
      "metadata": {
        "id": "npws5lYygBA5"
      },
      "source": [
        "Above graph shows pretrained network converges faster than randomly initialized network"
      ]
    },
    {
      "cell_type": "markdown",
      "metadata": {
        "id": "dakyHytngN_v"
      },
      "source": [
        "### Method for Testing"
      ]
    },
    {
      "cell_type": "code",
      "metadata": {
        "id": "ARaGRW-pUlmr"
      },
      "source": [
        "def testing(model, criterion, testloader):\n",
        "    t_loss, acc = [], []\n",
        "    model.eval()\n",
        "    test_loss, acc = 0., 0.\n",
        "    with torch.no_grad():\n",
        "        for img, lab in testloader:\n",
        "            img, lab = img.cuda(), lab.cuda()\n",
        "            pred = model.forward(img)\n",
        "            loss = criterion(pred, lab)\n",
        "            prob = torch.exp(pred)\n",
        "            top_prob, top_cl = prob.topk(1, dim=1)\n",
        "            eq = top_cl == lab.view(*top_cl.shape)\n",
        "            test_loss += loss.cpu().item()\n",
        "            acc += torch.mean(eq.type(torch.FloatTensor))\n",
        "    return test_loss/len(testloader), acc/len(testloader)"
      ],
      "execution_count": null,
      "outputs": []
    },
    {
      "cell_type": "code",
      "metadata": {
        "id": "0fe_EEsyYSre"
      },
      "source": [
        "p_test_loss, p_acc = testing(model, criterion, testloader)"
      ],
      "execution_count": null,
      "outputs": []
    },
    {
      "cell_type": "markdown",
      "metadata": {
        "id": "H18-0lBTfm1c"
      },
      "source": [
        "### Test Loss of Pretrained Network"
      ]
    },
    {
      "cell_type": "code",
      "metadata": {
        "colab": {
          "base_uri": "https://localhost:8080/"
        },
        "id": "ydGSRnhCd0S0",
        "outputId": "20edbce0-3db7-4339-a118-31a0643e8781"
      },
      "source": [
        "p_test_loss"
      ],
      "execution_count": null,
      "outputs": [
        {
          "output_type": "execute_result",
          "data": {
            "text/plain": [
              "1.0670192241668701"
            ]
          },
          "metadata": {
            "tags": []
          },
          "execution_count": 70
        }
      ]
    },
    {
      "cell_type": "markdown",
      "metadata": {
        "id": "THbsuo_7fvdD"
      },
      "source": [
        "### Test Accuracy of Pretrained Network"
      ]
    },
    {
      "cell_type": "code",
      "metadata": {
        "colab": {
          "base_uri": "https://localhost:8080/"
        },
        "id": "orXN3mFGd2GP",
        "outputId": "39ee2a74-1e45-49d5-dfbe-65517a2bdcd6"
      },
      "source": [
        "p_acc"
      ],
      "execution_count": null,
      "outputs": [
        {
          "output_type": "execute_result",
          "data": {
            "text/plain": [
              "tensor(0.6641)"
            ]
          },
          "metadata": {
            "tags": []
          },
          "execution_count": 71
        }
      ]
    },
    {
      "cell_type": "code",
      "metadata": {
        "id": "tqYh2riTQ6Zo"
      },
      "source": [
        "r_test_loss, r_acc = testing(model_1, criterion, testloader)"
      ],
      "execution_count": null,
      "outputs": []
    },
    {
      "cell_type": "markdown",
      "metadata": {
        "id": "XTltps4Xf1gh"
      },
      "source": [
        "### Test Loss of Randomly Initialized Network"
      ]
    },
    {
      "cell_type": "code",
      "metadata": {
        "colab": {
          "base_uri": "https://localhost:8080/"
        },
        "id": "Ffa6TOkffS8z",
        "outputId": "08c906b2-be1b-428e-c916-c97a59798f9f"
      },
      "source": [
        "r_test_loss"
      ],
      "execution_count": null,
      "outputs": [
        {
          "output_type": "execute_result",
          "data": {
            "text/plain": [
              "1.414797842502594"
            ]
          },
          "metadata": {
            "tags": []
          },
          "execution_count": 73
        }
      ]
    },
    {
      "cell_type": "markdown",
      "metadata": {
        "id": "6JiFb2Grf4-w"
      },
      "source": [
        "### Test Accuracy of Randomly Initialized Network"
      ]
    },
    {
      "cell_type": "code",
      "metadata": {
        "colab": {
          "base_uri": "https://localhost:8080/"
        },
        "id": "NwB6_cp7fctz",
        "outputId": "6d8310fa-02c8-4ffb-f266-25678bb39b81"
      },
      "source": [
        "r_acc"
      ],
      "execution_count": null,
      "outputs": [
        {
          "output_type": "execute_result",
          "data": {
            "text/plain": [
              "tensor(0.5469)"
            ]
          },
          "metadata": {
            "tags": []
          },
          "execution_count": 74
        }
      ]
    },
    {
      "cell_type": "code",
      "metadata": {
        "id": "cQ5M8WSuhKpB"
      },
      "source": [
        "torch.save(model_1.cpu().state_dict(), f\"{path}/midas_mnist_2.pth\")"
      ],
      "execution_count": null,
      "outputs": []
    },
    {
      "cell_type": "markdown",
      "metadata": {
        "id": "1Y_hbgCjgprf"
      },
      "source": [
        "### Testing Accuracy and Loss is bad because number of epochs is less and I took 100 just for comparing convergence of models. Adding more to number of epochs will surely perform better."
      ]
    },
    {
      "cell_type": "markdown",
      "metadata": {
        "id": "X3mO9TGgOjOz"
      },
      "source": [
        "# Part 3"
      ]
    },
    {
      "cell_type": "markdown",
      "metadata": {
        "id": "p7igErCoUeId"
      },
      "source": [
        "### Retrieving Saved Checkpoint"
      ]
    },
    {
      "cell_type": "code",
      "metadata": {
        "id": "eQ0yr_9PgUCW"
      },
      "source": [
        "model = Model(1, 62)"
      ],
      "execution_count": null,
      "outputs": []
    },
    {
      "cell_type": "code",
      "metadata": {
        "colab": {
          "base_uri": "https://localhost:8080/"
        },
        "id": "aTmTTOLRUJ1N",
        "outputId": "c6f2d45e-cc6e-4fde-ff24-d367d59b23b6"
      },
      "source": [
        "chkpt = torch.load('/content/drive/MyDrive/midas_mnist.pth')\n",
        "model.load_state_dict(chkpt)"
      ],
      "execution_count": null,
      "outputs": [
        {
          "output_type": "execute_result",
          "data": {
            "text/plain": [
              "<All keys matched successfully>"
            ]
          },
          "metadata": {
            "tags": []
          },
          "execution_count": 87
        }
      ]
    },
    {
      "cell_type": "markdown",
      "metadata": {
        "id": "iOCbZO5eOlYj"
      },
      "source": [
        "### Retrieving MNIST data and train-test split\n",
        "\n",
        "Total Data: 60000\n",
        "\n",
        "Training Data: 80% of data -> 48000\n",
        "\n",
        "Testing Data: 20% of data -> 12000"
      ]
    },
    {
      "cell_type": "code",
      "metadata": {
        "id": "EK29B2McPTB5"
      },
      "source": [
        "data = datasets.ImageFolder(f\"{path}/mnistTask\", transform=transform)\n",
        "train_data, test_data = random_split(data, [int(0.8 * len(data)), int(0.2 * len(data))])\n",
        "trainloader = DataLoader(train_data, batch_size=64, shuffle=True)\n",
        "testloader = DataLoader(test_data, batch_size=64, shuffle=True)"
      ],
      "execution_count": null,
      "outputs": []
    },
    {
      "cell_type": "markdown",
      "metadata": {
        "id": "RBGTOa7_PXni"
      },
      "source": [
        "### Scrapping Last Layer and replacing layer to predict for classes 0-9."
      ]
    },
    {
      "cell_type": "code",
      "metadata": {
        "id": "vFrSe9X6PbiD"
      },
      "source": [
        "model.fc2 = nn.Linear(128, 10)\n",
        "model = model.cuda()"
      ],
      "execution_count": null,
      "outputs": []
    },
    {
      "cell_type": "code",
      "metadata": {
        "colab": {
          "base_uri": "https://localhost:8080/"
        },
        "id": "Nr0-ouM6Pf-a",
        "outputId": "350dd67e-f3eb-45c2-c636-2bc86bde881f"
      },
      "source": [
        "summary(model, (1, 28, 28))"
      ],
      "execution_count": null,
      "outputs": [
        {
          "output_type": "stream",
          "text": [
            "----------------------------------------------------------------\n",
            "        Layer (type)               Output Shape         Param #\n",
            "================================================================\n",
            "            Conv2d-1           [-1, 16, 24, 24]             416\n",
            "         MaxPool2d-2           [-1, 16, 12, 12]               0\n",
            "            Conv2d-3             [-1, 32, 8, 8]          12,832\n",
            "         MaxPool2d-4             [-1, 32, 4, 4]               0\n",
            "            Linear-5                  [-1, 128]          65,664\n",
            "           Dropout-6                  [-1, 128]               0\n",
            "            Linear-7                   [-1, 10]           1,290\n",
            "================================================================\n",
            "Total params: 80,202\n",
            "Trainable params: 80,202\n",
            "Non-trainable params: 0\n",
            "----------------------------------------------------------------\n",
            "Input size (MB): 0.00\n",
            "Forward/backward pass size (MB): 0.11\n",
            "Params size (MB): 0.31\n",
            "Estimated Total Size (MB): 0.42\n",
            "----------------------------------------------------------------\n"
          ],
          "name": "stdout"
        }
      ]
    },
    {
      "cell_type": "markdown",
      "metadata": {
        "id": "JXt4pFs2PjiU"
      },
      "source": [
        "### Optimizer Initialization"
      ]
    },
    {
      "cell_type": "code",
      "metadata": {
        "id": "U7UNk4cQPoM0"
      },
      "source": [
        "optimizer = optim.Adam(model.parameters(), lr=0.001)"
      ],
      "execution_count": null,
      "outputs": []
    },
    {
      "cell_type": "markdown",
      "metadata": {
        "id": "eVtIGRBsPq08"
      },
      "source": [
        "### Pretrained Network Training"
      ]
    },
    {
      "cell_type": "code",
      "metadata": {
        "id": "y6N5HRWTQblh"
      },
      "source": [
        "m1_list = training(model, criterion, optimizer, trainloader, 100)"
      ],
      "execution_count": null,
      "outputs": []
    },
    {
      "cell_type": "code",
      "metadata": {
        "id": "GAOmUe7oQeZU"
      },
      "source": [
        "model_2 = Model(1, 62)\n",
        "model_2.fc2 = nn.Linear(128, 10)\n",
        "model_2 = model_2.cuda()\n",
        "optimizer_2 = optim.Adam(model_2.parameters(), lr=0.001)\n",
        "ran1_list = training(model_2, criterion, optimizer_2, trainloader, 100)"
      ],
      "execution_count": null,
      "outputs": []
    },
    {
      "cell_type": "markdown",
      "metadata": {
        "id": "AENlVrDSQoKv"
      },
      "source": [
        "### Comparison"
      ]
    },
    {
      "cell_type": "code",
      "metadata": {
        "id": "HbHkL1AGQp9B"
      },
      "source": [
        "ep = [i for i in range(1, 51)]"
      ],
      "execution_count": null,
      "outputs": []
    },
    {
      "cell_type": "code",
      "metadata": {
        "id": "q8t0qxJ8QuKG"
      },
      "source": [
        "plt.plot(ep, m1_list)\n",
        "plt.plot(ep, ran1_list)"
      ],
      "execution_count": null,
      "outputs": []
    },
    {
      "cell_type": "code",
      "metadata": {
        "id": "8J3zenryQw8m"
      },
      "source": [
        "def testing(model, criterion, testloader):\n",
        "    model.eval()\n",
        "    test_loss, acc = 0., 0.\n",
        "    with torch.no_grad():\n",
        "        for img, lab in testloader:\n",
        "            img, lab = img.cuda(), lab.cuda()\n",
        "            pred = model.forward(img)\n",
        "            loss = criterion(pred, lab)\n",
        "            prob = torch.exp(pred)\n",
        "            top_prob, top_cl = prob.topk(1, dim=1)\n",
        "            eq = top_cl == lab.view(*top_cl.shape)\n",
        "            test_loss += loss.cpu().item()\n",
        "            acc += torch.mean(eq.type(torch.FloatTensor))\n",
        "    return test_loss, acc"
      ],
      "execution_count": null,
      "outputs": []
    },
    {
      "cell_type": "code",
      "metadata": {
        "id": "aronFo-DQ0Jb"
      },
      "source": [
        "p_test_loss, p_acc = testing(model, criterion, testloader)"
      ],
      "execution_count": null,
      "outputs": []
    },
    {
      "cell_type": "markdown",
      "metadata": {
        "id": "sRNGwIKa7P8l"
      },
      "source": [
        "### Test Loss of Pretrained Network"
      ]
    },
    {
      "cell_type": "code",
      "metadata": {
        "id": "3rb9iOE67U6f"
      },
      "source": [
        "p_test_loss"
      ],
      "execution_count": null,
      "outputs": []
    },
    {
      "cell_type": "markdown",
      "metadata": {
        "id": "2pgjNdhX7X-I"
      },
      "source": [
        "### Test Accuracy of Pretrained Network"
      ]
    },
    {
      "cell_type": "code",
      "metadata": {
        "id": "TFDdoKWYRGZC"
      },
      "source": [
        "r_test_loss, r_acc = testing(model_2, criterion, testloader)"
      ],
      "execution_count": null,
      "outputs": []
    },
    {
      "cell_type": "markdown",
      "metadata": {
        "id": "bSg1I6o27oO3"
      },
      "source": [
        "### Test Loss of Randomly Intialized Network"
      ]
    },
    {
      "cell_type": "code",
      "metadata": {
        "id": "gWnl4qTk7u_L"
      },
      "source": [
        "r_test_loss"
      ],
      "execution_count": null,
      "outputs": []
    },
    {
      "cell_type": "markdown",
      "metadata": {
        "id": "f1-sWeAs7yZI"
      },
      "source": [
        "### Test Accuracy of Randomly Intialized Network"
      ]
    },
    {
      "cell_type": "code",
      "metadata": {
        "id": "NoPlBTSc73hb"
      },
      "source": [
        "torch.save(model_1.cpu().state_dict(), f\"{path}/midas_mnist_3.pth\")"
      ],
      "execution_count": null,
      "outputs": []
    }
  ]
}